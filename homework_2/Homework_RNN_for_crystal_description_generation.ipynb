{
 "cells": [
  {
   "cell_type": "markdown",
   "id": "b6a94c21-38cd-4d92-9726-f29d72a672a3",
   "metadata": {},
   "source": [
    "# Практика: генерация описания кристаллов по химической формуле с помощью RNN\n",
    "\n",
    "В этом задании мы будем применять на практике знания, полученные об RNN. Обучимся на корпусе из описаний экспериментальных кристаллов, взятых из Materials Project (и сгенерированным с помощью Robocrystallographer), и затем будем генерировать описание к любому кристаллу по запросу. \n",
    "\n",
    "P.S. GPU в этом задании снова не потребуется :) Но с GPU модель обучится быстрее"
   ]
  },
  {
   "cell_type": "code",
   "execution_count": 3,
   "id": "f00dc8bb-0c55-42ce-875c-f62847c4c314",
   "metadata": {},
   "outputs": [],
   "source": [
    "import re\n",
    "from random import sample\n",
    "\n",
    "import numpy as np\n",
    "import torch, torch.nn as nn\n",
    "import torch.nn.functional as F\n",
    "import pandas as pd\n",
    "\n",
    "from IPython.display import clear_output\n",
    "import matplotlib.pyplot as plt\n",
    "\n",
    "from torch.optim import Adam\n",
    "import torch.nn.functional as F\n",
    "from torch.optim.lr_scheduler import ReduceLROnPlateau, StepLR\n",
    "from rnn_functions import *"
   ]
  },
  {
   "cell_type": "code",
   "execution_count": 7,
   "id": "1e061f06-caaa-43ae-9f2b-d09a883b6fa4",
   "metadata": {},
   "outputs": [
    {
     "name": "stdout",
     "output_type": "stream",
     "text": [
      "cuda device is available\n"
     ]
    }
   ],
   "source": [
    "device = torch.device('cuda') if torch.cuda.is_available() else torch.device('cpu')\n",
    "print('{} device is available'.format(device))"
   ]
  },
  {
   "cell_type": "markdown",
   "id": "09f6ab04-7db9-43bf-b37a-13b66b928c1c",
   "metadata": {},
   "source": [
    "### Предобработка данных"
   ]
  },
  {
   "cell_type": "code",
   "execution_count": 10,
   "id": "277e1c95-6167-4bbe-b3c6-1d09f3c4dab5",
   "metadata": {},
   "outputs": [],
   "source": [
    "df = pd.read_csv('robocrys_exp_stable_unfiltered.csv')"
   ]
  },
  {
   "cell_type": "code",
   "execution_count": 11,
   "id": "7bb70027-dc27-49f2-8505-c3764e2399f0",
   "metadata": {},
   "outputs": [
    {
     "data": {
      "text/html": [
       "<div>\n",
       "<style scoped>\n",
       "    .dataframe tbody tr th:only-of-type {\n",
       "        vertical-align: middle;\n",
       "    }\n",
       "\n",
       "    .dataframe tbody tr th {\n",
       "        vertical-align: top;\n",
       "    }\n",
       "\n",
       "    .dataframe thead th {\n",
       "        text-align: right;\n",
       "    }\n",
       "</style>\n",
       "<table border=\"1\" class=\"dataframe\">\n",
       "  <thead>\n",
       "    <tr style=\"text-align: right;\">\n",
       "      <th></th>\n",
       "      <th>ID</th>\n",
       "      <th>Formula</th>\n",
       "      <th>Formula_pretty</th>\n",
       "      <th>Robocrys_description</th>\n",
       "    </tr>\n",
       "  </thead>\n",
       "  <tbody>\n",
       "    <tr>\n",
       "      <th>0</th>\n",
       "      <td>mp-1018134</td>\n",
       "      <td>Li3</td>\n",
       "      <td>Li</td>\n",
       "      <td>Li is alpha Samarium structured and crystalliz...</td>\n",
       "    </tr>\n",
       "    <tr>\n",
       "      <th>1</th>\n",
       "      <td>mp-103</td>\n",
       "      <td>Hf2</td>\n",
       "      <td>Hf</td>\n",
       "      <td>Hf is Magnesium structured and crystallizes in...</td>\n",
       "    </tr>\n",
       "    <tr>\n",
       "      <th>2</th>\n",
       "      <td>mp-104</td>\n",
       "      <td>Sb2</td>\n",
       "      <td>Sb</td>\n",
       "      <td>Sb is alpha As structured and crystallizes in ...</td>\n",
       "    </tr>\n",
       "    <tr>\n",
       "      <th>3</th>\n",
       "      <td>mp-112</td>\n",
       "      <td>Y2</td>\n",
       "      <td>Y</td>\n",
       "      <td>Y is Magnesium structured and crystallizes in ...</td>\n",
       "    </tr>\n",
       "    <tr>\n",
       "      <th>4</th>\n",
       "      <td>mp-113</td>\n",
       "      <td>Tc2</td>\n",
       "      <td>Tc</td>\n",
       "      <td>Tc is Magnesium structured and crystallizes in...</td>\n",
       "    </tr>\n",
       "    <tr>\n",
       "      <th>...</th>\n",
       "      <td>...</td>\n",
       "      <td>...</td>\n",
       "      <td>...</td>\n",
       "      <td>...</td>\n",
       "    </tr>\n",
       "    <tr>\n",
       "      <th>20932</th>\n",
       "      <td>mp-23151</td>\n",
       "      <td>Na4Be1Al1Si4Cl1O12</td>\n",
       "      <td>Na4BeAlSi4ClO12</td>\n",
       "      <td>Na‚āĄBeAlSi‚āĄO‚āĀ‚āāCl is Chalcostibite-deriv...</td>\n",
       "    </tr>\n",
       "    <tr>\n",
       "      <th>20933</th>\n",
       "      <td>mp-559375</td>\n",
       "      <td>Cs4K4Te4H24S4O40</td>\n",
       "      <td>CsKTeH6SO10</td>\n",
       "      <td>CsKSO‚āĄTe(OH)‚āÜ crystallizes in the monoclin...</td>\n",
       "    </tr>\n",
       "    <tr>\n",
       "      <th>20934</th>\n",
       "      <td>mp-559586</td>\n",
       "      <td>Ba4Na8Nd8Si16C4O60</td>\n",
       "      <td>BaNa2Nd2Si4CO15</td>\n",
       "      <td>Na‚āāBaNd‚āāSi‚āĄCO‚āĀ‚āÖ crystallizes in the ...</td>\n",
       "    </tr>\n",
       "    <tr>\n",
       "      <th>20935</th>\n",
       "      <td>mp-728124</td>\n",
       "      <td>Zn2Cr2H30N10Cl8F2</td>\n",
       "      <td>ZnCrH15N5Cl4F</td>\n",
       "      <td>CrN‚āÖH‚āĀ‚āÖFZnCl‚āĄ is Indium-derived struct...</td>\n",
       "    </tr>\n",
       "    <tr>\n",
       "      <th>20936</th>\n",
       "      <td>mp-773906</td>\n",
       "      <td>K4Na4Zr4Si12H16O44</td>\n",
       "      <td>KNaZrSi3H4O11</td>\n",
       "      <td>KNaZrSi‚āÉH‚āĄO‚āĀ‚āĀ crystallizes in the orth...</td>\n",
       "    </tr>\n",
       "  </tbody>\n",
       "</table>\n",
       "<p>20937 rows × 4 columns</p>\n",
       "</div>"
      ],
      "text/plain": [
       "               ID             Formula   Formula_pretty  \\\n",
       "0      mp-1018134                 Li3               Li   \n",
       "1          mp-103                 Hf2               Hf   \n",
       "2          mp-104                 Sb2               Sb   \n",
       "3          mp-112                  Y2                Y   \n",
       "4          mp-113                 Tc2               Tc   \n",
       "...           ...                 ...              ...   \n",
       "20932    mp-23151  Na4Be1Al1Si4Cl1O12  Na4BeAlSi4ClO12   \n",
       "20933   mp-559375    Cs4K4Te4H24S4O40      CsKTeH6SO10   \n",
       "20934   mp-559586  Ba4Na8Nd8Si16C4O60  BaNa2Nd2Si4CO15   \n",
       "20935   mp-728124   Zn2Cr2H30N10Cl8F2    ZnCrH15N5Cl4F   \n",
       "20936   mp-773906  K4Na4Zr4Si12H16O44    KNaZrSi3H4O11   \n",
       "\n",
       "                                    Robocrys_description  \n",
       "0      Li is alpha Samarium structured and crystalliz...  \n",
       "1      Hf is Magnesium structured and crystallizes in...  \n",
       "2      Sb is alpha As structured and crystallizes in ...  \n",
       "3      Y is Magnesium structured and crystallizes in ...  \n",
       "4      Tc is Magnesium structured and crystallizes in...  \n",
       "...                                                  ...  \n",
       "20932  Na‚āĄBeAlSi‚āĄO‚āĀ‚āāCl is Chalcostibite-deriv...  \n",
       "20933  CsKSO‚āĄTe(OH)‚āÜ crystallizes in the monoclin...  \n",
       "20934  Na‚āāBaNd‚āāSi‚āĄCO‚āĀ‚āÖ crystallizes in the ...  \n",
       "20935  CrN‚āÖH‚āĀ‚āÖFZnCl‚āĄ is Indium-derived struct...  \n",
       "20936  KNaZrSi‚āÉH‚āĄO‚āĀ‚āĀ crystallizes in the orth...  \n",
       "\n",
       "[20937 rows x 4 columns]"
      ]
     },
     "execution_count": 11,
     "metadata": {},
     "output_type": "execute_result"
    }
   ],
   "source": [
    "df"
   ]
  },
  {
   "cell_type": "markdown",
   "id": "8c8f5cd7-82ec-467f-a7f8-363a69fff69e",
   "metadata": {},
   "source": [
    "Для начала необходимо пофильтровать данные, которые мы будем использовать для обучения. Как видим, у некоторых описаний кристаллов слетела кодировка и присутствуют символы, которые мы не хотели бы использовать в качестве токенов. Мы не будем брать информацию о тех кристаллах, описание которых содержит следующие символы:"
   ]
  },
  {
   "cell_type": "code",
   "execution_count": 12,
   "id": "e03f9576-8775-4468-b439-b433faefb0a5",
   "metadata": {},
   "outputs": [],
   "source": [
    "bad_tokens = ['$', '¬', 'Ä', 'É', 'Ö', 'Ü', 'á', 'Ā', 'ā', 'Ą', 'ą', 'Č', 'ī', 'į', 'Ķ', 'Ļ', 'ļ', 'Ľ', 'Ő', '̅', '∂', '∑', '√','≤', '≥', '\\\\', \"'\"]"
   ]
  },
  {
   "cell_type": "code",
   "execution_count": null,
   "id": "8099836f-aa83-474d-9278-d1c5262dd9b4",
   "metadata": {},
   "outputs": [],
   "source": [
    "bad_tokens_pattern = '[' + re.escape(''.join(bad_tokens)) + ']'\n",
    "filtered_df = df[~df['Robocrys_description'].str.contains(bad_tokens_pattern, na=False)]\n",
    "filtered_df.to_csv('robocrys_exp_stable_filtered.csv', index=False)\n",
    "\n",
    "print(filtered_df)"
   ]
  },
  {
   "cell_type": "markdown",
   "id": "d9771d01-a56a-4799-8dbc-e8ecc868e5e6",
   "metadata": {},
   "source": [
    "Склеиваем все описания из отфильтрованного датафрейма в один большой текст через символ перевода строки:"
   ]
  },
  {
   "cell_type": "code",
   "execution_count": 15,
   "id": "efe82a68-b99a-4b4a-bbad-288b321b2bc1",
   "metadata": {},
   "outputs": [],
   "source": [
    "text = '\\n'.join(filtered_df.Robocrys_description.to_list())"
   ]
  },
  {
   "cell_type": "markdown",
   "id": "f9d7b701-cd14-4474-ad6c-356e4160b997",
   "metadata": {},
   "source": [
    "### Токенизация"
   ]
  },
  {
   "cell_type": "markdown",
   "id": "0d8c6cc4-3451-4766-80a7-921ab4626a24",
   "metadata": {},
   "source": [
    "Мы хотим генерировать описания не только для кристаллов, входящих в состав обучающей выборки, а вообще для любого другого кристалла. Поэтому установим посимвольную токенизацию. Модель будет генерировать не каждое следующее слово, а каждй следующий символ.\n",
    "<p>Уникальные токены:"
   ]
  },
  {
   "cell_type": "code",
   "execution_count": null,
   "id": "fd9437d4-2960-4530-94ce-90eadd746af8",
   "metadata": {
    "scrolled": true
   },
   "outputs": [],
   "source": [
    "tokens = sorted(set(text))\n",
    "\n",
    "len(tokens)"
   ]
  },
  {
   "cell_type": "markdown",
   "id": "968126a9-d560-4c43-b671-39b8fb0a6c7e",
   "metadata": {},
   "source": [
    "Попробуем добавить в качестве отдельных токенов названия атомов из таблицы Менделеева:"
   ]
  },
  {
   "cell_type": "code",
   "execution_count": 18,
   "id": "6844d116-06a2-4b22-85c8-c7b8ddec89d4",
   "metadata": {},
   "outputs": [],
   "source": [
    "element_symbols = [\"H\", \"He\", \"Li\", \"Be\", \"B\", \"C\", \"N\", \"O\", \"F\", \"Ne\", \"Na\", \"Mg\", \"Al\", \"Si\", \"P\", \"S\", \"Cl\", \"Ar\", \"K\", \n",
    "\"Ca\", \"Sc\", \"Ti\", \"V\", \"Cr\", \"Mn\", \"Fe\", \"Co\", \"Ni\", \"Cu\", \"Zn\", \"Ga\", \"Ge\", \"As\", \"Se\", \"Br\", \"Kr\", \"Rb\", \"Sr\", \"Y\", \"Zr\", \n",
    "\"Nb\", \"Mo\", \"Tc\", \"Ru\", \"Rh\", \"Pd\", \"Ag\", \"Cd\", \"In\", \"Sn\", \"Sb\", \"Te\", \"I\", \"Xe\", \"Cs\", \"Ba\", \"La\", \"Ce\", \"Pr\", \"Nd\", \"Pm\",\n",
    "\"Sm\",\"Eu\",\"Gd\",\"Tb\",\"Dy\",\"Ho\",\"Er\",\"Tm\",\"Yb\",\"Lu\",\"Hf\",\"Ta\",\"W\",\"Re\",\"Os\",\"Ir\",\"Pt\",\"Au\",\"Hg\",\"Tl\",\"Pb\",\"Bi\",\"Po\",\"At\",\"Rn\",\n",
    "\"Fr\",\"Ra\",\"Ac\",\"Th\",\"Pa\",\"U\",\"Np\",\"Pu\",\"Am\",\"Cm\",\"Bk\",\"Cf\",\"Es\",\"Fm\",\"Md\",\"No\",\"Lr\",\"Rf\",\"Db\",\"Sg\",\"Bh\",\"Hs\",\"Mt\",\"Ds\",\"Rg\",\n",
    "\"Cn\",\"Nh\",\"Fl\",\"Mc\",\"Lv\",\"Ts\",\"Og\"]"
   ]
  },
  {
   "cell_type": "code",
   "execution_count": null,
   "id": "33344ef6-14b5-41ba-8aa7-474fca57db31",
   "metadata": {
    "scrolled": true
   },
   "outputs": [],
   "source": [
    "tokens += element_symbols\n",
    "\n",
    "# И ещё раз найдём только уникальные элементы среди списка токенов, \n",
    "# так как некоторые атомы из таблицы Менделеева имеют длину 1\n",
    "tokens = sorted(set(tokens))\n",
    "\n",
    "len(tokens)"
   ]
  },
  {
   "cell_type": "markdown",
   "id": "1f2268df-0adf-46a8-ad27-a8060c49f410",
   "metadata": {},
   "source": [
    "### Токены начала и окончания генерируемой последовательности"
   ]
  },
  {
   "cell_type": "markdown",
   "id": "6656b7c5-6fe6-4a3c-9299-26c6b6932ef1",
   "metadata": {},
   "source": [
    "Мы уже знаем, что модели умеют отвечать на наши запросы и вопросы последовательно генерируемым текстом. Но как модель понимает, когда начинать свои предсказания и когда заканчивать? Для этого существуют `специальные токены`:<p>\n",
    "`<sos>` (Start of Sequence) - обозначает **начало последовательности** в задачах обработки естественного языка. Он используется для указания модели на то, что необходимо начать генерацию текста.<p>\n",
    "`<eos>` (End of Sequence) - используется для обозначения **конца последовательности**. Когда модель генерирует текст, встреча этого токена указывает на то, что необходимо остановить дальнейшее производство вывода. Это важно для контроля длины генерируемых последовательностей и обеспечения их согласованности и завершенности.<p>\n",
    "Существуют и другие специальные токены, но для обучения нашей модели нам хватит этих друх. Мы могли бы обойтись даже одним токеном - `<sos>` - и тогда модель не заканчивала бы описание кристалла без нашего прямого указания на то, что предсказание следует оборвать."
   ]
  },
  {
   "cell_type": "markdown",
   "id": "72d51583-1635-4b81-b58f-61d6d95fa6c6",
   "metadata": {},
   "source": [
    "Добавим эти два специальных токена в список уникальных токенов:"
   ]
  },
  {
   "cell_type": "code",
   "execution_count": null,
   "id": "5959b8d8-4880-4041-8a32-f2029b04536b",
   "metadata": {
    "scrolled": true
   },
   "outputs": [],
   "source": [
    "tokens += ['<sos>', '<eos>']\n",
    "num_tokens = len(tokens)\n",
    "\n",
    "print(num_tokens)"
   ]
  },
  {
   "cell_type": "markdown",
   "id": "c63e08e2-4b7d-4edf-9ee6-695222c8ae4c",
   "metadata": {},
   "source": [
    "### Mapping"
   ]
  },
  {
   "cell_type": "markdown",
   "id": "a9afb273-fd50-4af0-928a-0b691f056ed8",
   "metadata": {},
   "source": [
    "Индексируем наши токены. А именно составим два словаря: в слоаре token_to_index ключами будут являться токены, а значениями - их индексы, а в index_to_token - наоборот. Такую процедуру можно также назвать mapping."
   ]
  },
  {
   "cell_type": "code",
   "execution_count": 21,
   "id": "e9bf3c79-8c13-467d-b726-71dab2c3c2b9",
   "metadata": {},
   "outputs": [],
   "source": [
    "token_to_idx = {x: idx for idx, x in enumerate(tokens)}\n",
    "idx_to_token = {idx: x for idx, x in enumerate(tokens)}\n",
    "\n",
    "assert len(tokens) == len(token_to_idx), \"Mapping should be unique\""
   ]
  },
  {
   "cell_type": "markdown",
   "id": "b571e521-2ca9-494a-bfa5-2d04f7556eff",
   "metadata": {},
   "source": [
    "Теперь можем токенизировать весь наш текст:"
   ]
  },
  {
   "cell_type": "code",
   "execution_count": 22,
   "id": "e5a07434-bb4e-44d3-8ec1-e8a6b816dadc",
   "metadata": {},
   "outputs": [],
   "source": [
    "text_encoded = [token_to_idx[x] for x in text]"
   ]
  },
  {
   "cell_type": "markdown",
   "id": "05b123b5-f1a9-4032-8a06-94548b39e37c",
   "metadata": {},
   "source": [
    "## Обучение модели"
   ]
  },
  {
   "cell_type": "markdown",
   "id": "c73598c8-d6ca-4eee-8837-903c628af097",
   "metadata": {},
   "source": [
    "Для генерации описаний кристаллов мы будем обучать `LSTM` - сеть долговременной краткосрочной памяти.<p>\n",
    "Это разновидность архитектуры `RNN`, способная к обучению долговременным зависимостям. На семинаре мы разбирали принцип работы `RNN` и проблемы связанные с тем, что рекуррентная сеть 'забывает' информацию о предыдущих сгенерированных токенах. Чем дальше какой-то токен от того, на каком шаге предсказания мы находимся, тем меньший вклад он вносит в предсказание следующих токенов. А так как мы хотим токенизировать каждый символ, а не слово, проблема быстрого забывания становится для нас ещё более критичной.<p>\n",
    "Здесь на помощь приходит `LSTM`, разработанные специально, чтобы избежать проблемы долговременной зависимости. Запоминание информации на долгие периоды времени – это их стандартное поведение, а не что-то, чему они с трудом пытаются обучиться. "
   ]
  },
  {
   "cell_type": "code",
   "execution_count": 23,
   "id": "9c98979b-ec1c-4a47-83f5-60679c562807",
   "metadata": {},
   "outputs": [],
   "source": [
    "class basicLSTM(nn.Module):\n",
    "    def __init__(self, num_tokens, hidden_size) -> None:\n",
    "        super(self.__class__, self).__init__()\n",
    "        self.hidden_size = hidden_size\n",
    "        self.lstm = nn.LSTM(num_tokens, hidden_size, batch_first=True)\n",
    "        self.hid_to_logits = nn.Linear(in_features=hidden_size, out_features=num_tokens)\n",
    "\n",
    "    def forward(self, x):\n",
    "        h_t, h_next = self.lstm(x)\n",
    "        logits_all = self.hid_to_logits(h_t)\n",
    "        return logits_all"
   ]
  },
  {
   "cell_type": "markdown",
   "id": "348bb566-feca-4bce-b2f5-ff811d169380",
   "metadata": {},
   "source": [
    "### Обучаем модель"
   ]
  },
  {
   "cell_type": "markdown",
   "id": "0ae0097a-d68b-433b-b1eb-9b91f695ab0d",
   "metadata": {},
   "source": [
    "Инициализируем модель. Не забываем инициализировать её перед каждым обучением!<p>\n",
    "Мы хотим обучить модель, которая сама бы сама обрывала генерацию описания по токену `<eos>`."
   ]
  },
  {
   "cell_type": "code",
   "execution_count": 26,
   "id": "7f42e68e-1363-488e-bf5c-2c2a375a72e8",
   "metadata": {},
   "outputs": [],
   "source": [
    "basic_LSTM_with_eos = basicLSTM(num_tokens=num_tokens, hidden_size=64).to(device=device)\n",
    "\n",
    "eos = True\n",
    "sequence_length = 100\n",
    "batch_size = 256\n",
    "num_epochs = 20\n",
    "num_batches = 500\n",
    "\n",
    "optimizer = Adam(params=basic_LSTM_with_eos.parameters(), lr=1e-3)\n",
    "loss_function = nn.CrossEntropyLoss(ignore_index=token_to_idx['<sos>'])\n",
    "lr_scheduler = ReduceLROnPlateau(optimizer, factor=0.5, patience=150)"
   ]
  },
  {
   "cell_type": "markdown",
   "id": "5606daf0-3123-42ac-a2db-83e2fc306ef2",
   "metadata": {},
   "source": [
    "Обучаем модель:"
   ]
  },
  {
   "cell_type": "code",
   "execution_count": null,
   "id": "ab8b8794-de56-4ce4-9e15-a92356ef76b0",
   "metadata": {},
   "outputs": [],
   "source": [
    "train_basicLSTM_model(\n",
    "    model = basic_LSTM_with_eos,\n",
    "    eos = eos,\n",
    "    text_encoded = text_encoded,\n",
    "    token_to_idx = token_to_idx,\n",
    "    sequence_length = sequence_length,\n",
    "    batch_size = batch_size,\n",
    "    num_epochs = num_epochs,\n",
    "    num_batches = num_batches,\n",
    "    num_tokens = num_tokens,\n",
    "    optimizer = optimizer,\n",
    "    loss_function = loss_function,\n",
    "    lr_scheduler = lr_scheduler,\n",
    "    device = device)"
   ]
  },
  {
   "cell_type": "markdown",
   "id": "944b1c18-fd83-410d-8edf-d73c18c3550e",
   "metadata": {},
   "source": [
    "Сохраняем состояние обученной модели:"
   ]
  },
  {
   "cell_type": "code",
   "execution_count": 28,
   "id": "48f3e065-d943-4334-91d2-5998ecfca2af",
   "metadata": {},
   "outputs": [],
   "source": [
    "#torch.save(basic_LSTM_with_eos.state_dict(), 'LSTM_with_eos.pth')"
   ]
  },
  {
   "cell_type": "markdown",
   "id": "2c43b787-2a20-4cd9-88a5-e919e1374546",
   "metadata": {},
   "source": [
    "## Генерируем описания кристаллов и тестируем модель"
   ]
  },
  {
   "cell_type": "markdown",
   "id": "64192d9a-db10-4632-bd1f-b6aab3147de2",
   "metadata": {},
   "source": [
    "Мы будем получать предсказание модели с помощью функции `generate_description_and_compare`, которая принимает на вход следующие параметры, которые вы можете варьировать:\n",
    "\n",
    "`query`: это запрос, который вы отправляете в модель. Отправляйте запросы в формате `\"chemical_formula \"` или `\"chemical_formula is \"`. Можно отправлять запросы на описание любых формул, даже не присутстующих в обучающем корпусе.\n",
    "\n",
    "`max_length`: максимальная длина описания. Мы дали модели возможность самой решать, когда останавливать генерацию описания, но мы можем ограничить генерируемую последовательность сверху. Это не значит, что модель будет пытаться уместить описание в заданное количество символов, это значит лишь то, что описание автоматически прервется при достижении лимита символов, возможно прямо на середине слова.\n",
    "\n",
    "`temperature`: температура, добавляемая к функции `softmax` для управления распределением вероятностей:\n",
    "$$\n",
    "p_i = \\frac{e^{z_i / T}}{\\sum_{j=1}^{K} e^{z_j / T}}\n",
    "$$\n",
    "Низкая температура (T < 1): Увеличивает уверенность модели, делая распределение вероятностей более острым. В этом случае модель будет более склонна выбирать наиболее вероятные классы.\n",
    "\n",
    "Высокая температура (T > 1): Делает распределение вероятностей более равномерным, увеличивая случайность. Это может быть полезно для генерации более разнообразного текста или для уменьшения избыточной уверенности модели.\n",
    "\n",
    "Функция `generate_description_and_compare` принимает на вход запрос, генерирует по нему описание и выводит для сравнения описание кристалла из обучающего корпуса, если оно имеется (внимание, описания в корпусе чувствительны к перестановкам типов атомов в формуле)"
   ]
  },
  {
   "cell_type": "code",
   "execution_count": null,
   "metadata": {},
   "outputs": [],
   "source": [
    "#filtered_df = pd.read_csv('robocrys_exp_stable_filtered.csv')"
   ]
  },
  {
   "cell_type": "code",
   "execution_count": null,
   "id": "9d24eb98-2dd7-41ec-8606-8d2685341dad",
   "metadata": {},
   "outputs": [],
   "source": [
    "query = 'TiO3 '\n",
    "generate_description_and_compare(basic_LSTM_with_eos, token_to_idx, idx_to_token, query, filtered_df, max_length=500, temperature=0.8)"
   ]
  },
  {
   "cell_type": "code",
   "execution_count": null,
   "id": "c7ff5fe7-a0a4-4b86-8ea0-ed4dbbb67b9c",
   "metadata": {
    "scrolled": true
   },
   "outputs": [],
   "source": [
    "query = 'Ho is '\n",
    "generate_description_and_compare(basic_LSTM_with_eos, token_to_idx, idx_to_token, query, filtered_df, max_length=500, temperature=0.8)"
   ]
  },
  {
   "cell_type": "code",
   "execution_count": 34,
   "id": "2f6c89ca-4b7c-4e7b-abfc-bb06db8f943b",
   "metadata": {},
   "outputs": [],
   "source": [
    "### Поэкспериментируйте с разными запросами"
   ]
  },
  {
   "cell_type": "markdown",
   "id": "23081bc4-27a4-4563-8c94-41ecfeb8a278",
   "metadata": {},
   "source": [
    "### Задание"
   ]
  },
  {
   "cell_type": "markdown",
   "id": "7bcaad0b-89f9-4807-b77d-e31e3edb86c2",
   "metadata": {},
   "source": [
    "Потестируйте модель с помощью разных запросов. Подумайте над следующими вопросами и дайте на них короткие комментарии (просто ваши наблюдения), основанные на нескольких запросах:<p>\n",
    "<li>Насколько сгенерированные слова похожи на реальные слова? \n",
    "<li>Как меняются результаты генерации в зависимости от формы запроса? В каком случае сгенерированное описание более осмысленное: если мы подадим запрос \"La\", \"La \", \"La is\" или \"La is \"? \n",
    "<li>Насколько хорошо модель \"помнит\" формулу кристалла из запроса? \n",
    "<li>Модель лучше генерирует описания для кристаллов, описания которых входят в обучающий корпус? Как вообще мы можем оценить, насколько хорошо сгенерировано описание?\n",
    "<li>Мы специально ввели токен обрыва генерации последовательности, чтобы модель вовремя завершала описание кристала. Проверьте, действительно ли модель не приступает к генерации описания какого-то другого кристалла после генерации первого описания.\n",
    "<li>Часто ли модель обрывает последовательность, сгенерировав слишком короткое описание? \n",
    "<li>Что будет, если поварьировать температуру softmax?"
   ]
  }
 ],
 "metadata": {
  "kernelspec": {
   "display_name": "Python 3 (ipykernel)",
   "language": "python",
   "name": "python3"
  },
  "language_info": {
   "codemirror_mode": {
    "name": "ipython",
    "version": 3
   },
   "file_extension": ".py",
   "mimetype": "text/x-python",
   "name": "python",
   "nbconvert_exporter": "python",
   "pygments_lexer": "ipython3",
   "version": "3.10.9"
  }
 },
 "nbformat": 4,
 "nbformat_minor": 5
}
